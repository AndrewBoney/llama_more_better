{
 "cells": [
  {
   "cell_type": "code",
   "execution_count": 1,
   "id": "b9cf53bd-6fc2-4e8f-a8e2-e76c5ea221f6",
   "metadata": {},
   "outputs": [],
   "source": [
    "import sys\n",
    "import os\n",
    "\n",
    "sys.path.insert(0, os.path.abspath(os.path.join(os.getcwd(), '..')))"
   ]
  },
  {
   "cell_type": "code",
   "execution_count": 2,
   "id": "ce7d480b-ff9a-4cb0-96f4-a5e277070ee8",
   "metadata": {},
   "outputs": [],
   "source": [
    "import lightning as L\n",
    "\n",
    "import torch\n",
    "\n",
    "from llm_more_better.model import RewardModelLM\n",
    "from llm_more_better.data import get_anthropic_rlhf_data\n",
    "from llm_more_better.train_rm import parse_args"
   ]
  },
  {
   "cell_type": "markdown",
   "id": "4bbf6f0a",
   "metadata": {},
   "source": [
    "Set default arguments. I'm doing this because parse_args doesn't work in a notebook\n",
    "\n",
    "Sidenote but is there a way to get an argparser to work in a notebook?"
   ]
  },
  {
   "cell_type": "code",
   "execution_count": 13,
   "id": "624bf180-8f25-4e82-abe2-83ac8f6a22f9",
   "metadata": {},
   "outputs": [],
   "source": [
    "from types import SimpleNamespace\n",
    "\n",
    "args = SimpleNamespace(\n",
    "    model_name=\"meta-llama/Llama-3.2-1B-Instruct\",\n",
    "    batch_size=8,\n",
    "    max_epochs=10,\n",
    "    learning_rate=1e-4,\n",
    "    weight_decay=0.01,\n",
    "    grad_clip=1.0,\n",
    "    use_lora=True,\n",
    "    lora_r=8,\n",
    "    lora_alpha=16,\n",
    "    lora_dropout=0.05,\n",
    "    precision=\"bf16-true\",\n",
    "    seed=42,\n",
    "    num_workers=4,\n",
    "    accumulate_grad_batches=1,\n",
    "    wandb_project=\"rlhf-reward-model\",\n",
    "    save_dir=\"checkpoints\",\n",
    "    val_check_interval=0.25,\n",
    "    log_every_n_steps=10,\n",
    "    disable_wandb=False\n",
    ")"
   ]
  },
  {
   "cell_type": "code",
   "execution_count": 14,
   "id": "a7a4de62-6c29-40c6-a672-661db03cc9b4",
   "metadata": {},
   "outputs": [],
   "source": [
    "train_loader, val_loader, test_loader = get_anthropic_rlhf_data(\n",
    "    batch_size=args.batch_size,\n",
    "    seed=args.seed,\n",
    "    num_workers=args.num_workers,\n",
    "    model_name=args.model_name\n",
    ")"
   ]
  },
  {
   "cell_type": "code",
   "execution_count": 15,
   "id": "5538ab96-b0ee-4753-a1db-3da9c8c14fd7",
   "metadata": {},
   "outputs": [
    {
     "name": "stdout",
     "output_type": "stream",
     "text": [
      "trainable params: 1,703,936 || all params: 1,237,518,336 || trainable%: 0.1377\n"
     ]
    }
   ],
   "source": [
    "model = RewardModelLM(\n",
    "    model_name=args.model_name,\n",
    "    learning_rate=args.learning_rate,\n",
    "    weight_decay=args.weight_decay,\n",
    "    num_epochs=args.max_epochs,\n",
    "    use_lora=args.use_lora,\n",
    "    lora_config={\n",
    "        \"r\": args.lora_r,\n",
    "        \"lora_alpha\": args.lora_alpha,\n",
    "        \"lora_dropout\": args.lora_dropout,\n",
    "        \"target_modules\": [\"q_proj\", \"k_proj\", \"v_proj\", \"o_proj\"],\n",
    "        \"bias\": \"none\",\n",
    "        \"task_type\": \"CAUSAL_LM\"\n",
    "    } if args.use_lora else None\n",
    ")"
   ]
  },
  {
   "cell_type": "code",
   "execution_count": 16,
   "id": "d1a356db-daa9-480d-ab69-38d03c3cab9f",
   "metadata": {},
   "outputs": [
    {
     "name": "stderr",
     "output_type": "stream",
     "text": [
      "GPU available: True (cuda), used: True\n",
      "TPU available: False, using: 0 TPU cores\n",
      "HPU available: False, using: 0 HPUs\n"
     ]
    }
   ],
   "source": [
    "trainer = L.Trainer(\n",
    "    max_epochs=args.max_epochs,\n",
    "    precision=args.precision,\n",
    "    gradient_clip_val=args.grad_clip,\n",
    "    accelerator=\"auto\",\n",
    "    devices=\"auto\",\n",
    "    strategy=\"auto\",\n",
    "    accumulate_grad_batches=args.accumulate_grad_batches\n",
    ")"
   ]
  },
  {
   "cell_type": "code",
   "execution_count": 17,
   "id": "eea1f0a3",
   "metadata": {},
   "outputs": [],
   "source": [
    "from lightning.pytorch.tuner import Tuner"
   ]
  },
  {
   "cell_type": "code",
   "execution_count": 18,
   "id": "d7df2b8b",
   "metadata": {},
   "outputs": [],
   "source": [
    "tuner = Tuner(trainer)"
   ]
  },
  {
   "cell_type": "code",
   "execution_count": 19,
   "id": "bec9e309",
   "metadata": {},
   "outputs": [
    {
     "name": "stderr",
     "output_type": "stream",
     "text": [
      "/home/zeus/miniconda3/envs/cloudspace/lib/python3.10/site-packages/lightning/pytorch/trainer/configuration_validator.py:70: You defined a `validation_step` but have no `val_dataloader`. Skipping val loop.\n",
      "LOCAL_RANK: 0 - CUDA_VISIBLE_DEVICES: [0]\n"
     ]
    },
    {
     "data": {
      "application/vnd.jupyter.widget-view+json": {
       "model_id": "41d2401ebe5b4a12a28dac9f8e9bc3db",
       "version_major": 2,
       "version_minor": 0
      },
      "text/plain": [
       "Finding best initial lr:   0%|          | 0/100 [00:00<?, ?it/s]"
      ]
     },
     "metadata": {},
     "output_type": "display_data"
    },
    {
     "name": "stderr",
     "output_type": "stream",
     "text": [
      "LR finder stopped early after 79 steps due to diverging loss.\n",
      "Learning rate set to 1.5848931924611133e-07\n",
      "Restoring states from the checkpoint path at /teamspace/studios/this_studio/.lr_find_40a845e3-e226-42ca-ab61-5958a689a103.ckpt\n",
      "Restored all states from the checkpoint at /teamspace/studios/this_studio/.lr_find_40a845e3-e226-42ca-ab61-5958a689a103.ckpt\n"
     ]
    }
   ],
   "source": [
    "lr_finder = tuner.lr_find(model, train_loader)"
   ]
  },
  {
   "cell_type": "code",
   "execution_count": 20,
   "id": "87b6c214",
   "metadata": {},
   "outputs": [
    {
     "name": "stdout",
     "output_type": "stream",
     "text": [
      "{'lr': [1e-08, 1.4454397707459274e-08, 1.7378008287493753e-08, 2.0892961308540398e-08, 2.51188643150958e-08, 3.019951720402016e-08, 3.630780547701014e-08, 4.36515832240166e-08, 5.248074602497726e-08, 6.309573444801934e-08, 7.585775750291837e-08, 9.120108393559096e-08, 1.0964781961431852e-07, 1.3182567385564074e-07, 1.5848931924611133e-07, 1.9054607179632475e-07, 2.2908676527677735e-07, 2.7542287033381663e-07, 3.311311214825911e-07, 3.9810717055349735e-07, 4.786300923226383e-07, 5.75439937337157e-07, 6.918309709189366e-07, 8.317637711026709e-07, 1e-06, 1.2022644346174132e-06, 1.445439770745928e-06, 1.7378008287493761e-06, 2.089296130854039e-06, 2.5118864315095797e-06, 3.0199517204020163e-06, 3.630780547701014e-06, 4.365158322401661e-06, 5.248074602497728e-06, 6.3095734448019305e-06, 7.585775750291836e-06, 9.120108393559096e-06, 1.0964781961431852e-05, 1.3182567385564076e-05, 1.584893192461114e-05, 1.9054607179632464e-05, 2.2908676527677725e-05, 2.7542287033381663e-05, 3.311311214825911e-05, 3.9810717055349735e-05, 4.786300923226385e-05, 5.7543993733715664e-05, 6.918309709189363e-05, 8.317637711026709e-05, 0.0001, 0.00012022644346174131, 0.0001445439770745928, 0.00017378008287493763, 0.0002089296130854041, 0.0002511886431509582, 0.0003019951720402019, 0.000363078054770101, 0.0004365158322401656, 0.0005248074602497723, 0.000630957344480193, 0.0007585775750291836, 0.0009120108393559097, 0.0010964781961431851, 0.0013182567385564075, 0.001584893192461114, 0.0019054607179632484, 0.0022908676527677745, 0.002754228703338169, 0.003311311214825908, 0.003981071705534969, 0.00478630092322638, 0.005754399373371567, 0.006918309709189364, 0.008317637711026709, 0.01, 0.012022644346174132, 0.01445439770745928, 0.017378008287493765, 0.02089296130854041], 'loss': [0.2840909090909088, 0.48505305400625737, 0.541234112189019, 0.6107113511116212, 0.7158687910496964, 0.7275617231006823, 0.749414655225186, 0.7339777616387501, 0.7276149556886279, 0.7667151900483464, 0.7706057439899413, 0.7667921064820584, 0.74925577275908, 0.7708289096831702, 0.7582893564213611, 0.7421304680632247, 0.7452093444754183, 0.7460000875992734, 0.7417750261277307, 0.7350200303656148, 0.7510954994802298, 0.7541896918678289, 0.7407548801498218, 0.7617111557224084, 0.7508131543345729, 0.7535617810132695, 0.7521310482947101, 0.7548541524453868, 0.7608284610707851, 0.7659024341414402, 0.7528457946701949, 0.7512838352598361, 0.7493453181665374, 0.757076916930537, 0.7551401159140259, 0.7626616073180577, 0.7693321528614965, 0.7733517185130445, 0.7753280245351801, 0.7751221781389748, 0.7757462394276627, 0.7673227465006845, 0.7826539452554288, 0.785223639130576, 0.7844468487193318, 0.7848522845631972, 0.7788216260881045, 0.7788989138200236, 0.7819217670300797, 0.7876104027760117, 0.795584690307779, 0.8015673113328153, 0.8006025171804437, 0.7975798330055378, 0.8011342579401697, 0.8006669656666073, 0.7986327592557926, 0.8059866987821377, 0.8053936162289045, 0.80901305468637, 0.7992661783769701, 0.8098342392723051, 0.8123843037114707, 0.8055478561034717, 0.8163454972005975, 0.8242472048671639, 0.8189115561873553, 0.8145849661450767, 0.8115364879285286, 0.8538170242431581, 0.8668044262438858, 0.88180771590718, 0.869547147073882, 0.8869092649168212, 0.898354844475246, 0.9318275216484438, 1.064352371758679, 1.102324983070053, 1.2580975184328322]}\n"
     ]
    },
    {
     "data": {
      "image/png": "[encoded data removed]",
      "text/plain": [
       "<Figure size 640x480 with 1 Axes>"
      ]
     },
     "metadata": {},
     "output_type": "display_data"
    }
   ],
   "source": [
    "# Results can be found in\n",
    "print(lr_finder.results)\n",
    "\n",
    "# Plot with\n",
    "fig = lr_finder.plot(suggest=True)\n",
    "fig.show()"
   ]
  }
 ],
 "metadata": {
  "kernelspec": {
   "display_name": "Python 3",
   "language": "python",
   "name": "python3"
  },
  "language_info": {
   "codemirror_mode": {
    "name": "ipython",
    "version": 3
   },
   "file_extension": ".py",
   "mimetype": "text/x-python",
   "name": "python",
   "nbconvert_exporter": "python",
   "pygments_lexer": "ipython3",
   "version": "3.10.10"
  }
 },
 "nbformat": 4,
 "nbformat_minor": 5
}
