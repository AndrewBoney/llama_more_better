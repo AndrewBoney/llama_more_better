{
 "cells": [
  {
   "cell_type": "code",
   "execution_count": 1,
   "id": "b9cf53bd-6fc2-4e8f-a8e2-e76c5ea221f6",
   "metadata": {},
   "outputs": [],
   "source": [
    "import sys\n",
    "import os\n",
    "\n",
    "sys.path.insert(0, os.path.abspath(os.path.join(os.getcwd(), '..')))"
   ]
  },
  {
   "cell_type": "code",
   "execution_count": 2,
   "id": "ce7d480b-ff9a-4cb0-96f4-a5e277070ee8",
   "metadata": {},
   "outputs": [],
   "source": [
    "import lightning as L\n",
    "\n",
    "from llm_more_better.model import RewardModelLM\n",
    "from llm_more_better.data import get_anthropic_rlhf_data\n",
    "from llm_more_better.train_rm import parse_args"
   ]
  },
  {
   "cell_type": "markdown",
   "id": "4bbf6f0a",
   "metadata": {},
   "source": [
    "Set default arguments. I'm doing this because parse_args doesn't work in a notebook\n",
    "\n",
    "Sidenote but is there a way to get an argparser to work in a notebook? "
   ]
  },
  {
   "cell_type": "code",
   "execution_count": 3,
   "id": "624bf180-8f25-4e82-abe2-83ac8f6a22f9",
   "metadata": {},
   "outputs": [],
   "source": [
    "from types import SimpleNamespace\n",
    "\n",
    "args = SimpleNamespace(\n",
    "    model_name=\"meta-llama/Llama-3.2-1B-Instruct\",\n",
    "    batch_size=4,\n",
    "    max_epochs=10,\n",
    "    learning_rate=1e-4,\n",
    "    weight_decay=0.01,\n",
    "    grad_clip=1.0,\n",
    "    use_lora=True,\n",
    "    lora_r=8,\n",
    "    lora_alpha=16,\n",
    "    lora_dropout=0.05,\n",
    "    precision=\"16-mixed\",\n",
    "    seed=42,\n",
    "    num_workers=4,\n",
    "    accumulate_grad_batches=4,\n",
    "    wandb_project=\"rlhf-reward-model\",\n",
    "    save_dir=\"checkpoints\",\n",
    "    val_check_interval=0.25,\n",
    "    log_every_n_steps=10,\n",
    "    disable_wandb=False\n",
    ")"
   ]
  },
  {
   "cell_type": "code",
   "execution_count": 4,
   "id": "a7a4de62-6c29-40c6-a672-661db03cc9b4",
   "metadata": {},
   "outputs": [],
   "source": [
    "train_loader, val_loader, test_loader = get_anthropic_rlhf_data(\n",
    "    batch_size=args.batch_size,\n",
    "    seed=args.seed,\n",
    "    num_workers=args.num_workers,\n",
    "    model_name=args.model_name\n",
    ")"
   ]
  },
  {
   "cell_type": "code",
   "execution_count": 5,
   "id": "5538ab96-b0ee-4753-a1db-3da9c8c14fd7",
   "metadata": {},
   "outputs": [
    {
     "name": "stderr",
     "output_type": "stream",
     "text": [
      "The installed version of bitsandbytes was compiled without GPU support. 8-bit optimizers, 8-bit multiplication, and GPU quantization are unavailable.\n"
     ]
    },
    {
     "name": "stdout",
     "output_type": "stream",
     "text": [
      "trainable params: 1,703,936 || all params: 1,237,520,385 || trainable%: 0.1377\n"
     ]
    }
   ],
   "source": [
    "model = RewardModelLM(\n",
    "    model_name=args.model_name,\n",
    "    learning_rate=args.learning_rate,\n",
    "    weight_decay=args.weight_decay,\n",
    "    num_epochs=args.max_epochs,\n",
    "    use_lora=args.use_lora,\n",
    "    lora_config={\n",
    "        \"r\": args.lora_r,\n",
    "        \"lora_alpha\": args.lora_alpha,\n",
    "        \"lora_dropout\": args.lora_dropout,\n",
    "        \"target_modules\": [\"q_proj\", \"k_proj\", \"v_proj\", \"o_proj\"],\n",
    "        \"bias\": \"none\",\n",
    "        \"task_type\": \"CAUSAL_LM\"\n",
    "    } if args.use_lora else None\n",
    ")"
   ]
  },
  {
   "cell_type": "code",
   "execution_count": 6,
   "id": "d1a356db-daa9-480d-ab69-38d03c3cab9f",
   "metadata": {},
   "outputs": [
    {
     "name": "stderr",
     "output_type": "stream",
     "text": [
      "/home/zeus/miniconda3/envs/cloudspace/lib/python3.10/site-packages/lightning/pytorch/trainer/connectors/accelerator_connector.py:512: You passed `Trainer(accelerator='cpu', precision='16-mixed')` but AMP with fp16 is not supported on CPU. Using `precision='bf16-mixed'` instead.\n",
      "Using bfloat16 Automatic Mixed Precision (AMP)\n",
      "GPU available: False, used: False\n",
      "TPU available: False, using: 0 TPU cores\n",
      "HPU available: False, using: 0 HPUs\n"
     ]
    }
   ],
   "source": [
    "trainer = L.Trainer(\n",
    "    max_epochs=args.max_epochs,\n",
    "    precision=args.precision,\n",
    "    gradient_clip_val=args.grad_clip,\n",
    "    accelerator=\"auto\",\n",
    "    devices=\"auto\",\n",
    "    strategy=\"auto\",\n",
    "    accumulate_grad_batches=args.accumulate_grad_batches,\n",
    ")"
   ]
  },
  {
   "cell_type": "code",
   "execution_count": null,
   "id": "5379a86b",
   "metadata": {},
   "outputs": [],
   "source": []
  },
  {
   "cell_type": "code",
   "execution_count": 7,
   "id": "4b4973c5-4383-4abe-8573-469780a06476",
   "metadata": {},
   "outputs": [],
   "source": [
    "tuner = L.pytorch.tuner.Tuner(trainer)"
   ]
  },
  {
   "cell_type": "code",
   "execution_count": null,
   "id": "947381a9-c154-4c29-8efb-b12f99661769",
   "metadata": {},
   "outputs": [],
   "source": [
    "trainer.fit(\n",
    "    model=model,\n",
    "    train_dataloaders=train_loader,\n",
    "    val_dataloaders=val_loader,\n",
    ")"
   ]
  },
  {
   "cell_type": "code",
   "execution_count": null,
   "id": "93d76874-967a-4849-9347-08789cce260f",
   "metadata": {},
   "outputs": [],
   "source": [
    "tuner.lr_find(model, train_loader, val_loader)"
   ]
  }
 ],
 "metadata": {
  "kernelspec": {
   "display_name": "Python 3",
   "language": "python",
   "name": "python3"
  },
  "language_info": {
   "codemirror_mode": {
    "name": "ipython",
    "version": 3
   },
   "file_extension": ".py",
   "mimetype": "text/x-python",
   "name": "python",
   "nbconvert_exporter": "python",
   "pygments_lexer": "ipython3",
   "version": "3.10.10"
  }
 },
 "nbformat": 4,
 "nbformat_minor": 5
}
