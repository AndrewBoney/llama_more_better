{
 "cells": [
  {
   "cell_type": "code",
   "execution_count": 1,
   "id": "b9cf53bd-6fc2-4e8f-a8e2-e76c5ea221f6",
   "metadata": {},
   "outputs": [],
   "source": [
    "import sys\n",
    "import os\n",
    "\n",
    "sys.path.insert(0, os.path.abspath(os.path.join(os.getcwd(), '..')))"
   ]
  },
  {
   "cell_type": "code",
   "execution_count": 2,
   "id": "ce7d480b-ff9a-4cb0-96f4-a5e277070ee8",
   "metadata": {},
   "outputs": [],
   "source": [
    "import lightning as L\n",
    "\n",
    "import torch\n",
    "\n",
    "from llm_more_better.model import RewardModelLM\n",
    "from llm_more_better.data import get_anthropic_rlhf_data\n",
    "from llm_more_better.train_rm import parse_args"
   ]
  },
  {
   "cell_type": "code",
   "execution_count": 3,
   "id": "b8055c99",
   "metadata": {},
   "outputs": [],
   "source": [
    "assert torch.cuda.is_bf16_supported()"
   ]
  },
  {
   "cell_type": "markdown",
   "id": "4bbf6f0a",
   "metadata": {},
   "source": [
    "Set default arguments. I'm doing this because parse_args doesn't work in a notebook\n",
    "\n",
    "Sidenote but is there a way to get an argparser to work in a notebook?"
   ]
  },
  {
   "cell_type": "code",
   "execution_count": 4,
   "id": "624bf180-8f25-4e82-abe2-83ac8f6a22f9",
   "metadata": {},
   "outputs": [],
   "source": [
    "from types import SimpleNamespace\n",
    "\n",
    "args = SimpleNamespace(\n",
    "    model_name=\"meta-llama/Llama-3.2-1B-Instruct\",\n",
    "    batch_size=4,\n",
    "    max_epochs=10,\n",
    "    learning_rate=1e-4,\n",
    "    weight_decay=0.01,\n",
    "    grad_clip=1.0,\n",
    "    use_lora=True,\n",
    "    lora_r=8,\n",
    "    lora_alpha=16,\n",
    "    lora_dropout=0.05,\n",
    "    precision=\"16-mixed\",\n",
    "    seed=42,\n",
    "    num_workers=4,\n",
    "    accumulate_grad_batches=1,\n",
    "    wandb_project=\"rlhf-reward-model\",\n",
    "    save_dir=\"checkpoints\",\n",
    "    val_check_interval=0.25,\n",
    "    log_every_n_steps=10,\n",
    "    disable_wandb=False\n",
    ")"
   ]
  },
  {
   "cell_type": "code",
   "execution_count": 5,
   "id": "a7a4de62-6c29-40c6-a672-661db03cc9b4",
   "metadata": {},
   "outputs": [],
   "source": [
    "train_loader, val_loader, test_loader = get_anthropic_rlhf_data(\n",
    "    batch_size=args.batch_size,\n",
    "    seed=args.seed,\n",
    "    num_workers=args.num_workers,\n",
    "    model_name=args.model_name\n",
    ")"
   ]
  },
  {
   "cell_type": "code",
   "execution_count": 6,
   "id": "5538ab96-b0ee-4753-a1db-3da9c8c14fd7",
   "metadata": {},
   "outputs": [
    {
     "name": "stdout",
     "output_type": "stream",
     "text": [
      "trainable params: 1,703,936 || all params: 1,237,518,336 || trainable%: 0.1377\n"
     ]
    }
   ],
   "source": [
    "model = RewardModelLM(\n",
    "    model_name=args.model_name,\n",
    "    learning_rate=args.learning_rate,\n",
    "    weight_decay=args.weight_decay,\n",
    "    num_epochs=args.max_epochs,\n",
    "    use_lora=args.use_lora,\n",
    "    lora_config={\n",
    "        \"r\": args.lora_r,\n",
    "        \"lora_alpha\": args.lora_alpha,\n",
    "        \"lora_dropout\": args.lora_dropout,\n",
    "        \"target_modules\": [\"q_proj\", \"k_proj\", \"v_proj\", \"o_proj\"],\n",
    "        \"bias\": \"none\",\n",
    "        \"task_type\": \"CAUSAL_LM\"\n",
    "    } if args.use_lora else None\n",
    ")"
   ]
  },
  {
   "cell_type": "code",
   "execution_count": 7,
   "id": "d1a356db-daa9-480d-ab69-38d03c3cab9f",
   "metadata": {},
   "outputs": [
    {
     "name": "stderr",
     "output_type": "stream",
     "text": [
      "Using 16bit Automatic Mixed Precision (AMP)\n",
      "GPU available: True (cuda), used: True\n",
      "TPU available: False, using: 0 TPU cores\n",
      "HPU available: False, using: 0 HPUs\n"
     ]
    }
   ],
   "source": [
    "trainer = L.Trainer(\n",
    "    max_epochs=args.max_epochs,\n",
    "    precision=args.precision,\n",
    "    gradient_clip_val=args.grad_clip,\n",
    "    accelerator=\"auto\",\n",
    "    devices=\"auto\",\n",
    "    strategy=\"auto\",\n",
    "    accumulate_grad_batches=args.accumulate_grad_batches\n",
    ")"
   ]
  },
  {
   "cell_type": "code",
   "execution_count": 8,
   "id": "eea1f0a3",
   "metadata": {},
   "outputs": [],
   "source": [
    "from lightning.pytorch.tuner import Tuner"
   ]
  },
  {
   "cell_type": "code",
   "execution_count": 9,
   "id": "d7df2b8b",
   "metadata": {},
   "outputs": [],
   "source": [
    "tuner = Tuner(trainer)"
   ]
  },
  {
   "cell_type": "code",
   "execution_count": 10,
   "id": "f1f6ab0d",
   "metadata": {},
   "outputs": [
    {
     "name": "stderr",
     "output_type": "stream",
     "text": [
      "/home/zeus/miniconda3/envs/cloudspace/lib/python3.10/site-packages/lightning/pytorch/trainer/configuration_validator.py:70: You defined a `validation_step` but have no `val_dataloader`. Skipping val loop.\n",
      "You are using a CUDA device ('NVIDIA L4') that has Tensor Cores. To properly utilize them, you should set `torch.set_float32_matmul_precision('medium' | 'high')` which will trade-off precision for performance. For more details, read https://pytorch.org/docs/stable/generated/torch.set_float32_matmul_precision.html#torch.set_float32_matmul_precision\n",
      "LOCAL_RANK: 0 - CUDA_VISIBLE_DEVICES: [0]\n"
     ]
    },
    {
     "data": {
      "application/vnd.jupyter.widget-view+json": {
       "model_id": "9403b9904e5149c3b32975b2a8e25fc3",
       "version_major": 2,
       "version_minor": 0
      },
      "text/plain": [
       "Finding best initial lr:   0%|          | 0/100 [00:00<?, ?it/s]"
      ]
     },
     "metadata": {},
     "output_type": "display_data"
    },
    {
     "name": "stderr",
     "output_type": "stream",
     "text": [
      "Starting from v4.46, the `logits` model output will have the same type as the model (except at train time, where it will always be FP32)\n",
      "LR finder stopped early after 79 steps due to diverging loss.\n",
      "Learning rate set to 1.0964781961431852e-07\n",
      "Restoring states from the checkpoint path at /teamspace/studios/this_studio/.lr_find_38e5196c-edc0-4bef-8fbd-9fe42667cede.ckpt\n",
      "Restored all states from the checkpoint at /teamspace/studios/this_studio/.lr_find_38e5196c-edc0-4bef-8fbd-9fe42667cede.ckpt\n"
     ]
    }
   ],
   "source": [
    "lr_finder = tuner.lr_find(model, train_loader)"
   ]
  },
  {
   "cell_type": "code",
   "execution_count": 11,
   "id": "87b6c214",
   "metadata": {},
   "outputs": [
    {
     "name": "stdout",
     "output_type": "stream",
     "text": [
      "{'lr': [1e-08, 1.4454397707459274e-08, 1.7378008287493753e-08, 2.0892961308540398e-08, 2.51188643150958e-08, 3.019951720402016e-08, 3.630780547701014e-08, 4.36515832240166e-08, 5.248074602497726e-08, 6.309573444801934e-08, 7.585775750291837e-08, 9.120108393559096e-08, 1.0964781961431852e-07, 1.3182567385564074e-07, 1.5848931924611133e-07, 1.9054607179632475e-07, 2.2908676527677735e-07, 2.7542287033381663e-07, 3.311311214825911e-07, 3.9810717055349735e-07, 4.786300923226383e-07, 5.75439937337157e-07, 6.918309709189366e-07, 8.317637711026709e-07, 1e-06, 1.2022644346174132e-06, 1.445439770745928e-06, 1.7378008287493761e-06, 2.089296130854039e-06, 2.5118864315095797e-06, 3.0199517204020163e-06, 3.630780547701014e-06, 4.365158322401661e-06, 5.248074602497728e-06, 6.3095734448019305e-06, 7.585775750291836e-06, 9.120108393559096e-06, 1.0964781961431852e-05, 1.3182567385564076e-05, 1.584893192461114e-05, 1.9054607179632464e-05, 2.2908676527677725e-05, 2.7542287033381663e-05, 3.311311214825911e-05, 3.9810717055349735e-05, 4.786300923226385e-05, 5.7543993733715664e-05, 6.918309709189363e-05, 8.317637711026709e-05, 0.0001, 0.00012022644346174131, 0.0001445439770745928, 0.00017378008287493763, 0.0002089296130854041, 0.0002511886431509582, 0.0003019951720402019, 0.000363078054770101, 0.0004365158322401656, 0.0005248074602497723, 0.000630957344480193, 0.0007585775750291836, 0.0009120108393559097, 0.0010964781961431851, 0.0013182567385564075, 0.001584893192461114, 0.0019054607179632484, 0.0022908676527677745, 0.002754228703338169, 0.003311311214825908, 0.003981071705534969, 0.00478630092322638, 0.005754399373371567, 0.006918309709189364, 0.008317637711026709, 0.01, 0.012022644346174132, 0.01445439770745928, 0.017378008287493765, 0.02089296130854041], 'loss': [0.37258020555130117, 0.5960558129239122, 0.7236354889093428, 0.7519136247275705, 0.7398351484298542, 0.6921341902937763, 0.6737183799123277, 0.745044465908887, 0.7725405796254392, 0.7878762843354425, 0.808489195978647, 0.8270414877577336, 0.8070660918283741, 0.7893342592416214, 0.7726485692582628, 0.781714378696061, 0.7788528170111171, 0.8011020378989283, 0.7910835266601758, 0.7795861681918254, 0.7560760293663669, 0.7643429964758137, 0.747533446352377, 0.7386934550294816, 0.7425533840414595, 0.748866186599756, 0.7428489776356029, 0.743951073814269, 0.7481043031946242, 0.753028983207665, 0.745368669461409, 0.7490050612367678, 0.7501097154249541, 0.7757707531007327, 0.7868130166655335, 0.7897515189086823, 0.7934265084369547, 0.7885694690170851, 0.7858699469605835, 0.7727298090326179, 0.7709136177636257, 0.7661870253647489, 0.7628687078978523, 0.7736658800038568, 0.7915281209590357, 0.7857520486898424, 0.8021159164227166, 0.8059458212595374, 0.8104410587093817, 0.8067113079496645, 0.820232616460417, 0.8078231359271275, 0.8092010076337588, 0.8131688166154822, 0.8074919022000748, 0.8105414341833623, 0.8028741475297541, 0.797443512419704, 0.7999825551218598, 0.7967710633795313, 0.7932616399934244, 0.7942420123146217, 0.8092985702632182, 0.8053838411446079, 0.8005609031047329, 0.8066843229258682, 0.8136199598454937, 0.8075378912107263, 0.7967164728664096, 0.8071254228584989, 0.8050085542949859, 0.7966346006555579, 0.7966683898467859, 0.7979663786422903, 0.7959650284057875, 0.7937922551566912, 0.7910722308368631, 0.7890487415483802, inf]}\n"
     ]
    },
    {
     "data": {
      "image/png": "[encoded data removed]",
      "text/plain": [
       "<Figure size 640x480 with 1 Axes>"
      ]
     },
     "metadata": {},
     "output_type": "display_data"
    }
   ],
   "source": [
    "# Results can be found in\n",
    "print(lr_finder.results)\n",
    "\n",
    "# Plot with\n",
    "fig = lr_finder.plot(suggest=True)\n",
    "fig.show()"
   ]
  }
 ],
 "metadata": {
  "kernelspec": {
   "display_name": "Python 3",
   "language": "python",
   "name": "python3"
  },
  "language_info": {
   "codemirror_mode": {
    "name": "ipython",
    "version": 3
   },
   "file_extension": ".py",
   "mimetype": "text/x-python",
   "name": "python",
   "nbconvert_exporter": "python",
   "pygments_lexer": "ipython3",
   "version": "3.10.10"
  }
 },
 "nbformat": 4,
 "nbformat_minor": 5
}
