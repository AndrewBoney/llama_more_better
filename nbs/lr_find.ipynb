{
 "cells": [
  {
   "cell_type": "code",
   "execution_count": 1,
   "id": "b9cf53bd-6fc2-4e8f-a8e2-e76c5ea221f6",
   "metadata": {},
   "outputs": [],
   "source": [
    "import sys\n",
    "import os\n",
    "\n",
    "sys.path.insert(0, os.path.abspath(os.path.join(os.getcwd(), '..')))"
   ]
  },
  {
   "cell_type": "code",
   "execution_count": 2,
   "id": "ce7d480b-ff9a-4cb0-96f4-a5e277070ee8",
   "metadata": {},
   "outputs": [],
   "source": [
    "import lightning as L\n",
    "\n",
    "import torch\n",
    "\n",
    "from llm_more_better.model import RewardModelLM\n",
    "from llm_more_better.data import get_anthropic_rlhf_data\n",
    "from llm_more_better.train_rm import parse_args"
   ]
  },
  {
   "cell_type": "markdown",
   "id": "4bbf6f0a",
   "metadata": {},
   "source": [
    "Set default arguments. I'm doing this because parse_args doesn't work in a notebook\n",
    "\n",
    "Sidenote but is there a way to get an argparser to work in a notebook?"
   ]
  },
  {
   "cell_type": "code",
   "execution_count": 3,
   "id": "624bf180-8f25-4e82-abe2-83ac8f6a22f9",
   "metadata": {},
   "outputs": [],
   "source": [
    "from types import SimpleNamespace\n",
    "\n",
    "args = SimpleNamespace(\n",
    "    model_name=\"meta-llama/Llama-3.2-1B-Instruct\",\n",
    "    batch_size=4,\n",
    "    max_epochs=10,\n",
    "    learning_rate=1e-4,\n",
    "    weight_decay=0.01,\n",
    "    grad_clip=1.0,\n",
    "    use_lora=True,\n",
    "    lora_r=8,\n",
    "    lora_alpha=16,\n",
    "    lora_dropout=0.05,\n",
    "    precision=\"16-mixed\",\n",
    "    seed=42,\n",
    "    num_workers=4,\n",
    "    accumulate_grad_batches=1,\n",
    "    wandb_project=\"rlhf-reward-model\",\n",
    "    save_dir=\"checkpoints\",\n",
    "    val_check_interval=0.25,\n",
    "    log_every_n_steps=10,\n",
    "    disable_wandb=False\n",
    ")"
   ]
  },
  {
   "cell_type": "code",
   "execution_count": 4,
   "id": "a7a4de62-6c29-40c6-a672-661db03cc9b4",
   "metadata": {},
   "outputs": [],
   "source": [
    "train_loader, val_loader, test_loader = get_anthropic_rlhf_data(\n",
    "    batch_size=args.batch_size,\n",
    "    seed=args.seed,\n",
    "    num_workers=args.num_workers,\n",
    "    model_name=args.model_name\n",
    ")"
   ]
  },
  {
   "cell_type": "code",
   "execution_count": 5,
   "id": "5538ab96-b0ee-4753-a1db-3da9c8c14fd7",
   "metadata": {},
   "outputs": [
    {
     "name": "stdout",
     "output_type": "stream",
     "text": [
      "trainable params: 1,703,936 || all params: 1,237,518,336 || trainable%: 0.1377\n"
     ]
    }
   ],
   "source": [
    "model = RewardModelLM(\n",
    "    model_name=args.model_name,\n",
    "    learning_rate=args.learning_rate,\n",
    "    weight_decay=args.weight_decay,\n",
    "    num_epochs=args.max_epochs,\n",
    "    use_lora=args.use_lora,\n",
    "    lora_config={\n",
    "        \"r\": args.lora_r,\n",
    "        \"lora_alpha\": args.lora_alpha,\n",
    "        \"lora_dropout\": args.lora_dropout,\n",
    "        \"target_modules\": [\"q_proj\", \"k_proj\", \"v_proj\", \"o_proj\"],\n",
    "        \"bias\": \"none\",\n",
    "        \"task_type\": \"CAUSAL_LM\"\n",
    "    } if args.use_lora else None\n",
    ")"
   ]
  },
  {
   "cell_type": "code",
   "execution_count": 6,
   "id": "cd3dfc8c",
   "metadata": {},
   "outputs": [],
   "source": [
    "model.model.lm_head = None"
   ]
  },
  {
   "cell_type": "code",
   "execution_count": 7,
   "id": "d1a356db-daa9-480d-ab69-38d03c3cab9f",
   "metadata": {},
   "outputs": [
    {
     "name": "stderr",
     "output_type": "stream",
     "text": [
      "Using 16bit Automatic Mixed Precision (AMP)\n",
      "GPU available: True (cuda), used: True\n",
      "TPU available: False, using: 0 TPU cores\n",
      "HPU available: False, using: 0 HPUs\n"
     ]
    }
   ],
   "source": [
    "trainer = L.Trainer(\n",
    "    max_epochs=args.max_epochs,\n",
    "    precision=args.precision,\n",
    "    gradient_clip_val=args.grad_clip,\n",
    "    accelerator=\"auto\",\n",
    "    devices=\"auto\",\n",
    "    strategy=\"auto\",\n",
    "    accumulate_grad_batches=args.accumulate_grad_batches\n",
    ")"
   ]
  },
  {
   "cell_type": "code",
   "execution_count": 8,
   "id": "eea1f0a3",
   "metadata": {},
   "outputs": [],
   "source": [
    "from lightning.pytorch.tuner import Tuner"
   ]
  },
  {
   "cell_type": "code",
   "execution_count": 9,
   "id": "d7df2b8b",
   "metadata": {},
   "outputs": [],
   "source": [
    "tuner = Tuner(trainer)"
   ]
  },
  {
   "cell_type": "code",
   "execution_count": 10,
   "id": "f1f6ab0d",
   "metadata": {},
   "outputs": [
    {
     "name": "stderr",
     "output_type": "stream",
     "text": [
      "/home/zeus/miniconda3/envs/cloudspace/lib/python3.10/site-packages/lightning/pytorch/trainer/configuration_validator.py:70: You defined a `validation_step` but have no `val_dataloader`. Skipping val loop.\n",
      "You are using a CUDA device ('NVIDIA L4') that has Tensor Cores. To properly utilize them, you should set `torch.set_float32_matmul_precision('medium' | 'high')` which will trade-off precision for performance. For more details, read https://pytorch.org/docs/stable/generated/torch.set_float32_matmul_precision.html#torch.set_float32_matmul_precision\n",
      "LOCAL_RANK: 0 - CUDA_VISIBLE_DEVICES: [0]\n"
     ]
    },
    {
     "data": {
      "application/vnd.jupyter.widget-view+json": {
       "model_id": "af652228fb8f44248ee4a5e718bbdcbe",
       "version_major": 2,
       "version_minor": 0
      },
      "text/plain": [
       "Finding best initial lr:   0%|          | 0/100 [00:00<?, ?it/s]"
      ]
     },
     "metadata": {},
     "output_type": "display_data"
    },
    {
     "name": "stderr",
     "output_type": "stream",
     "text": [
      "Starting from v4.46, the `logits` model output will have the same type as the model (except at train time, where it will always be FP32)\n",
      "`Trainer.fit` stopped: `max_steps=100` reached.\n",
      "Learning rate set to 0.10964781961431852\n",
      "Restoring states from the checkpoint path at /teamspace/studios/this_studio/.lr_find_90330991-fe85-4158-b263-7df285e055c2.ckpt\n",
      "Restored all states from the checkpoint at /teamspace/studios/this_studio/.lr_find_90330991-fe85-4158-b263-7df285e055c2.ckpt\n"
     ]
    }
   ],
   "source": [
    "lr_finder = tuner.lr_find(model, train_loader)"
   ]
  },
  {
   "cell_type": "code",
   "execution_count": 13,
   "id": "57fd006f",
   "metadata": {},
   "outputs": [
    {
     "data": {
      "text/plain": [
       "Parameter containing:\n",
       "tensor([[-0.0050,  0.0177, -0.0027,  ..., -0.0148, -0.0202, -0.0107]],\n",
       "       requires_grad=True)"
      ]
     },
     "execution_count": 13,
     "metadata": {},
     "output_type": "execute_result"
    }
   ],
   "source": [
    "model.model.score.weight"
   ]
  },
  {
   "cell_type": "code",
   "execution_count": 11,
   "id": "87b6c214",
   "metadata": {},
   "outputs": [
    {
     "name": "stdout",
     "output_type": "stream",
     "text": [
      "{'lr': [1e-08, 1.4454397707459274e-08, 1.7378008287493753e-08, 2.0892961308540398e-08, 2.51188643150958e-08, 3.019951720402016e-08, 3.630780547701014e-08, 4.36515832240166e-08, 5.248074602497726e-08, 6.309573444801934e-08, 7.585775750291837e-08, 9.120108393559096e-08, 1.0964781961431852e-07, 1.3182567385564074e-07, 1.5848931924611133e-07, 1.9054607179632475e-07, 2.2908676527677735e-07, 2.7542287033381663e-07, 3.311311214825911e-07, 3.9810717055349735e-07, 4.786300923226383e-07, 5.75439937337157e-07, 6.918309709189366e-07, 8.317637711026709e-07, 1e-06, 1.2022644346174132e-06, 1.445439770745928e-06, 1.7378008287493761e-06, 2.089296130854039e-06, 2.5118864315095797e-06, 3.0199517204020163e-06, 3.630780547701014e-06, 4.365158322401661e-06, 5.248074602497728e-06, 6.3095734448019305e-06, 7.585775750291836e-06, 9.120108393559096e-06, 1.0964781961431852e-05, 1.3182567385564076e-05, 1.584893192461114e-05, 1.9054607179632464e-05, 2.2908676527677725e-05, 2.7542287033381663e-05, 3.311311214825911e-05, 3.9810717055349735e-05, 4.786300923226385e-05, 5.7543993733715664e-05, 6.918309709189363e-05, 8.317637711026709e-05, 0.0001, 0.00012022644346174131, 0.0001445439770745928, 0.00017378008287493763, 0.0002089296130854041, 0.0002511886431509582, 0.0003019951720402019, 0.000363078054770101, 0.0004365158322401656, 0.0005248074602497723, 0.000630957344480193, 0.0007585775750291836, 0.0009120108393559097, 0.0010964781961431851, 0.0013182567385564075, 0.001584893192461114, 0.0019054607179632484, 0.0022908676527677745, 0.002754228703338169, 0.003311311214825908, 0.003981071705534969, 0.00478630092322638, 0.005754399373371567, 0.006918309709189364, 0.008317637711026709, 0.01, 0.012022644346174132, 0.01445439770745928, 0.017378008287493765, 0.02089296130854041, 0.025118864315095822, 0.030199517204020192, 0.036307805477010104, 0.04365158322401657, 0.05248074602497723, 0.0630957344480193, 0.07585775750291836, 0.09120108393559097, 0.10964781961431852, 0.13182567385564073, 0.15848931924611143, 0.19054607179632482, 0.2290867652767775, 0.2754228703338169, 0.3311311214825908, 0.3981071705534969, 0.47863009232263803, 0.5754399373371567, 0.6918309709189363, 0.8317637711026709, 1.0], 'loss': [0.32479910537449963, 0.4862562428038387, 0.5291397046203954, 0.5837852827375175, 0.6081282126275541, 0.6351593537244324, 0.6350434436522312, 0.6712023502357086, 0.6708757639721689, 0.6660756560483171, 0.6806570916566549, 0.6932654182955161, 0.6968948865207547, 0.681326775632945, 0.6993124712726145, 0.6988603017104817, 0.7074788799870074, 0.7247402333347328, 0.7200801377805339, 0.7203660103971092, 0.7323884809118841, 0.7341634410390372, 0.7350889609385788, 0.7382497605409813, 0.7235160283699195, 0.7271090951347915, 0.7298514961438887, 0.7327164116003252, 0.7349992720326374, 0.7489416610551471, 0.738684446710957, 0.7451613163307178, 0.747577302558462, 0.759319410833297, 0.7627682827762021, 0.7759154908290585, 0.7782167273481808, 0.7726039226988168, 0.7747731937792518, 0.782658707919099, 0.77545552962103, 0.7706909949752628, 0.7642411134242602, 0.7631269257323007, 0.778664854841936, 0.7753165698176268, 0.7849976354471307, 0.7853812026467832, 0.7857321613097463, 0.7803644725967266, 0.7823270769856313, 0.7720871936534607, 0.7717564893714809, 0.7708376424936206, 0.7685913413112054, 0.7626492815996734, 0.7638608893250886, 0.7572377765009769, 0.7524314004803874, 0.7503499938953083, 0.7544925082946482, 0.764218363726933, 0.7545626926061476, 0.7488945724227456, 0.7883173953538156, 0.7763128809171541, 0.7773430220482536, 0.7730729617359575, 0.7929329177505441, 0.7867317631380415, 0.7825895768837212, 0.7819703820522789, 0.7807986572204981, 0.7794149746975352, 0.7814304853201567, 0.782635374756433, 0.7836004821801295, 0.7844385408255167, 0.8759781141451274, 0.8890055005670869, 0.8972416232220983, 0.8821028957459777, 0.8820626673687193, 0.8708370147592426, 0.9864391908651502, 1.1770734471074193, 1.2920468320042686, 1.261144173295699, 1.26626624971029, nan, nan, nan, nan, nan, nan, nan, nan, nan, nan, nan]}\n"
     ]
    },
    {
     "data": {
      "image/png": "[encoded data removed]",
      "text/plain": [
       "<Figure size 640x480 with 1 Axes>"
      ]
     },
     "metadata": {},
     "output_type": "display_data"
    }
   ],
   "source": [
    "# Results can be found in\n",
    "print(lr_finder.results)\n",
    "\n",
    "# Plot with\n",
    "fig = lr_finder.plot(suggest=True)\n",
    "fig.show()"
   ]
  }
 ],
 "metadata": {
  "kernelspec": {
   "display_name": "Python 3",
   "language": "python",
   "name": "python3"
  },
  "language_info": {
   "codemirror_mode": {
    "name": "ipython",
    "version": 3
   },
   "file_extension": ".py",
   "mimetype": "text/x-python",
   "name": "python",
   "nbconvert_exporter": "python",
   "pygments_lexer": "ipython3",
   "version": "3.10.10"
  }
 },
 "nbformat": 4,
 "nbformat_minor": 5
}
