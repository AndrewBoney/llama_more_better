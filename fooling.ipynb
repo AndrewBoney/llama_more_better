{
 "cells": [
  {
   "cell_type": "code",
   "execution_count": null,
   "id": "69ae1430",
   "metadata": {},
   "outputs": [],
   "source": [
    "from llm_more_better.model import RewardModelLM\n",
    "from llm_more_better.data import get_anthropic_rlhf_data"
   ]
  },
  {
   "cell_type": "code",
   "execution_count": null,
   "id": "70a097e1",
   "metadata": {},
   "outputs": [],
   "source": [
    "train_loader, val_loader, test_loader = get_anthropic_rlhf_data(\n",
    "    batch_size=4,\n",
    "    model_name=\"meta-llama/Llama-3.2-1B-Instruct\",\n",
    ")"
   ]
  },
  {
   "cell_type": "code",
   "execution_count": null,
   "id": "dbd87fe1",
   "metadata": {},
   "outputs": [],
   "source": [
    "for batch in train_loader:\n",
    "    break"
   ]
  },
  {
   "cell_type": "code",
   "execution_count": null,
   "id": "fa1fac3d",
   "metadata": {},
   "outputs": [],
   "source": [
    "model = RewardModelLM(\"meta-llama/Llama-3.2-1B-Instruct\")"
   ]
  },
  {
   "cell_type": "code",
   "execution_count": null,
   "id": "209d4638",
   "metadata": {},
   "outputs": [],
   "source": [
    "model.training_step(batch, 0)"
   ]
  },
  {
   "cell_type": "code",
   "execution_count": null,
   "id": "c024e6be",
   "metadata": {},
   "outputs": [],
   "source": [
    "model(**batch[\"chosen_tokens\"])"
   ]
  }
 ],
 "metadata": {
  "kernelspec": {
   "display_name": "Python 3 (ipykernel)",
   "language": "python",
   "name": "python3"
  },
  "language_info": {
   "codemirror_mode": {
    "name": "ipython",
    "version": 3
   },
   "file_extension": ".py",
   "mimetype": "text/x-python",
   "name": "python",
   "nbconvert_exporter": "python",
   "pygments_lexer": "ipython3",
   "version": "3.11.0"
  }
 },
 "nbformat": 4,
 "nbformat_minor": 5
}
